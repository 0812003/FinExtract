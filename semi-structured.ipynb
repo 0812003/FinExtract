{
 "cells": [
  {
   "cell_type": "code",
   "execution_count": 1,
   "metadata": {},
   "outputs": [],
   "source": [
    "import requests\n",
    "import pdfplumber\n",
    "import re\n",
    "import pandas as pd"
   ]
  },
  {
   "cell_type": "code",
   "execution_count": 2,
   "metadata": {},
   "outputs": [],
   "source": [
    "def download_file(url):\n",
    "    local_filename = url.split('/')[-1]\n",
    "    with requests.get(url, stream=True) as r:\n",
    "        r.raise_for_status()\n",
    "        with open(local_filename, 'wb') as f:\n",
    "            for chunk in r.iter_content(chunk_size=8192):\n",
    "                f.write(chunk)\n",
    "    return local_filename"
   ]
  },
  {
   "cell_type": "code",
   "execution_count": 3,
   "metadata": {},
   "outputs": [],
   "source": [
    "ap_url = 'https://www.tabs3.com/support/sample/apreports.pdf'"
   ]
  },
  {
   "cell_type": "code",
   "execution_count": 4,
   "metadata": {},
   "outputs": [],
   "source": [
    "ap = download_file(ap_url)"
   ]
  },
  {
   "cell_type": "code",
   "execution_count": 9,
   "metadata": {},
   "outputs": [],
   "source": [
    "with pdfplumber.open(ap) as pdf:\n",
    "    pages = pdf.pages[16]\n",
    "    text = pages.extract_text()"
   ]
  },
  {
   "cell_type": "code",
   "execution_count": 10,
   "metadata": {},
   "outputs": [
    {
     "name": "stdout",
     "output_type": "stream",
     "text": [
      "AccountsPayableReportPack\n",
      "Invoice by Vendor List\n",
      "Date: 08/26/2024 Invoice by Vendor List Page: 1\n",
      "Jensen, Martin & Anderson, P.C.\n",
      "Inv Due Inv Disc Disc Net\n",
      "Voucher # Invoice # Date Date Amount Amount Date Amount 1099 Ref # Description Codes\n",
      "200 United Parcel Service\n",
      "200.01MLJ 3243387 032224 062224 75.00 P 75.00 1 Overnight document delivery * 1\n",
      "3243387 032324 062324 75.00 P 75.00 3 Postage * 1\n",
      "3243387 072224 072224 75.00 P 75.00 2 Overnight document delivery * 1\n",
      "Vendor Totals 225.00 0.00 225.00\n",
      "202 Software Technology, LLC\n",
      "312205 081624 082124 490.00 P 490.00 1 Software Maintenance Agreement Tabs3 * 1\n",
      "312206 081624 082124 239.00 P 239.00 2 Software Maintenance Agreement Tabs3 General Ledger * 1\n",
      "312207 081624 082124 239.00 P 239.00 3 Software Maintenance Agreement Tabs3 Accounts Payable * 1\n",
      "312208 081624 082124 239.00 P 239.00 4 Software Maintenance Agreement Tabs3 Trust Accounting * 1\n",
      "312209 081624 082124 800.00 P 800.00 5 Software Maintenance Agreement PracticeMaster (9 Users) * 1\n",
      "312210 081624 082124 105.00 P 105.00 6 Software Maintenance Agreement Tabs3 Taskbill * 1\n",
      "320559 082124 082624 205.00 205.00 7 Purchase Tabs3 Device Interface Program 1\n",
      "Vendor Totals 2,317.00 0.00 2,317.00\n",
      "203 Clerk of the County Court\n",
      "200.01PAM 042224 042224 225.00 P 225.00 1 Documentation Fee, Filing Fee, and Sheriff Service Fee * 1\n",
      "Vendor Totals 225.00 0.00 225.00\n",
      "204 Clerk of the District Court\n",
      "032324 032324 75.00 P 75.00 2 Filing fee * 1\n",
      "051624 051624 75.00 P 75.00 3 Filing fee * 1\n",
      "850.00 RON 081624 081624 150.00 150.00 1 Petition for Dissolution of Marriage Filing Fee 1\n",
      "Vendor Totals 300.00 0.00 300.00\n",
      "225 Jackson/Wylinda\n",
      "122023 122023 750.00 P 750.00 Y 2 Holiday Party * 1\n",
      "072224 072224 1,500.00 P 1,500.00 Y 1 Catering/Firm Retreat * 1\n",
      "Vendor Totals 2,250.00 0.00 2,250.00\n",
      "240 NELCO\n",
      "5065 2094756 072224 082224 129.85 P 129.85 1 Check order for Trust and AP Checks * 1\n",
      "Vendor Totals 129.85 0.00 129.85\n",
      "250 D & B Real Estate Management Company\n",
      "AUTO 071824 071824 7,500.00 P 7,500.00 Y 1 Monthly Rent (Including Electric, Gas & Garbage) * 1\n",
      "AUTO 072224 072224 7,500.00 P 7,500.00 Y 2 Monthly Rent (Including Electric, Gas & Garbage) * 1\n",
      "5074 KEY 080924 080924 10.00 10.00 N 3 Duplicate Key for building 1\n",
      "Vendor Totals 15,010.00 0.00 15,010.00\n",
      "300 Thomson Reuters Payment Center\n",
      "042124 042124 4.00 P 4.00 3 Online Legal Research * 1\n",
      "052024 052024 75.00 P 75.00 1 Online Legal Research * 1\n",
      "062124 062124 40.00 P 40.00 4 Online Legal Research * 1\n",
      "072524 072524 4.00 P 4.00 2 Online Legal Research * 1\n",
      "072624 072624 50.00 P 50.00 5 Online Legal Research * 1\n",
      "072624 072624 50.00 P 50.00 6 Online Legal Research * 1\n",
      "072624 072624 50.00 P 50.00 7 Online Legal Research * 1\n",
      "072624 072624 50.00 P 50.00 8 Online Legal Research * 1\n",
      "Vendor Totals 323.00 0.00 323.00\n",
      "325 Professional Messenger Services\n",
      "061724 061724 20.00 P 20.00 Y 2 Courier Fee * 1\n",
      "062024 062024 25.00 P 25.00 Y 4 Courier Fee * 1\n",
      "082124 082124 47.50 P 47.50 Y 1 Courier Fee * 1\n",
      "082124 082124 35.00 P 35.00 Y 3 Courier Fee * 1\n",
      "Vendor Totals 127.50 0.00 127.50\n",
      "400 Sprint Local & Long Distance\n",
      "402310760011 081624 082124 68.96 68.96 1 November Cell Phone Charges 1\n",
      "Vendor Totals 68.96 0.00 68.96\n",
      "700 Clean All Janitorial Services\n",
      "AUTO 071824 072124 750.00 P 750.00 Y 1 Monthly Cleaning Charges (Bi-Weekly Service) * 1\n",
      "AUTO 072224 082124 750.00 750.00 Y 2 Monthly Cleaning Charges (Bi-Weekly Service) 1\n",
      "Vendor Totals 1,500.00 0.00 1,500.00\n",
      "Grand Totals 22,476.31 0.00 22,476.31\n",
      "Menu Reports|Invoices|InvoicebyVendorList\n",
      "Thereportsshownonpages17and19areexamplesoftheInvoicebyVendorList.Thereporttabsforthisreportincludethe\n",
      "standardVendorandInvoicestabsaswellastheOptionstab.TheOptionstabincludesparametersthatenableyoutoinclude\n",
      "paidinvoices,unpaidinvoicesorboth.Ifyouselecttoincludeonlyunpaidinvoices,youwillhavetheoptiontoincludeposted\n",
      "unpaidinvoices,unpostedunpaidinvoicesorbothaswellastheoptiontoincludeinvoicessettoHold,Payorboth.Alist\n",
      "showingonlypartialpaymentinvoicescanbeprinted.AlistofinvoiceswiththeExcludefrom1099Reportingcheckbox\n",
      "selectedorclearedcanbeprinted.\n",
      "-17-\n"
     ]
    }
   ],
   "source": [
    "print(text)"
   ]
  },
  {
   "cell_type": "code",
   "execution_count": 11,
   "metadata": {},
   "outputs": [],
   "source": [
    "new_vend_re = re.compile(r'^\\d{3} [A-Z].*')"
   ]
  },
  {
   "cell_type": "code",
   "execution_count": 13,
   "metadata": {},
   "outputs": [
    {
     "name": "stdout",
     "output_type": "stream",
     "text": [
      "200 United Parcel Service\n",
      "202 Software Technology, LLC\n",
      "203 Clerk of the County Court\n",
      "204 Clerk of the District Court\n",
      "225 Jackson/Wylinda\n",
      "240 NELCO\n",
      "250 D & B Real Estate Management Company\n",
      "300 Thomson Reuters Payment Center\n",
      "325 Professional Messenger Services\n",
      "400 Sprint Local & Long Distance\n",
      "700 Clean All Janitorial Services\n"
     ]
    }
   ],
   "source": [
    "for line in text.split('\\n'):\n",
    "    if new_vend_re.match(line):\n",
    "        print(line)"
   ]
  },
  {
   "cell_type": "code",
   "execution_count": 16,
   "metadata": {},
   "outputs": [
    {
     "name": "stdout",
     "output_type": "stream",
     "text": [
      "200 ['United Parcel Service']\n",
      "202 ['Software Technology, LLC']\n",
      "203 ['Clerk of the County Court']\n",
      "204 ['Clerk of the District Court']\n",
      "225 ['Jackson/Wylinda']\n",
      "240 ['NELCO']\n",
      "250 ['D & B Real Estate Management Company']\n",
      "300 ['Thomson Reuters Payment Center']\n",
      "325 ['Professional Messenger Services']\n",
      "400 ['Sprint Local & Long Distance']\n",
      "700 ['Clean All Janitorial Services']\n"
     ]
    }
   ],
   "source": [
    "for line in text.split('\\n'):\n",
    "    if new_vend_re.match(line):\n",
    "        vend_num, *vend_name = line.split(' ', 1)   \n",
    "        print(vend_num, vend_name)"
   ]
  },
  {
   "cell_type": "code",
   "execution_count": 17,
   "metadata": {},
   "outputs": [],
   "source": [
    "invoice_line_re = re.compile(r'\\d{6} \\d{6} [\\d,]+\\.\\d{2}')"
   ]
  },
  {
   "cell_type": "code",
   "execution_count": 19,
   "metadata": {},
   "outputs": [
    {
     "name": "stdout",
     "output_type": "stream",
     "text": [
      "200.01MLJ 3243387 032224 062224 75.00 P 75.00 1 Overnight document delivery * 1\n",
      "3243387 032324 062324 75.00 P 75.00 3 Postage * 1\n",
      "3243387 072224 072224 75.00 P 75.00 2 Overnight document delivery * 1\n",
      "312205 081624 082124 490.00 P 490.00 1 Software Maintenance Agreement Tabs3 * 1\n",
      "312206 081624 082124 239.00 P 239.00 2 Software Maintenance Agreement Tabs3 General Ledger * 1\n",
      "312207 081624 082124 239.00 P 239.00 3 Software Maintenance Agreement Tabs3 Accounts Payable * 1\n",
      "312208 081624 082124 239.00 P 239.00 4 Software Maintenance Agreement Tabs3 Trust Accounting * 1\n",
      "312209 081624 082124 800.00 P 800.00 5 Software Maintenance Agreement PracticeMaster (9 Users) * 1\n",
      "312210 081624 082124 105.00 P 105.00 6 Software Maintenance Agreement Tabs3 Taskbill * 1\n",
      "320559 082124 082624 205.00 205.00 7 Purchase Tabs3 Device Interface Program 1\n",
      "200.01PAM 042224 042224 225.00 P 225.00 1 Documentation Fee, Filing Fee, and Sheriff Service Fee * 1\n",
      "032324 032324 75.00 P 75.00 2 Filing fee * 1\n",
      "051624 051624 75.00 P 75.00 3 Filing fee * 1\n",
      "850.00 RON 081624 081624 150.00 150.00 1 Petition for Dissolution of Marriage Filing Fee 1\n",
      "122023 122023 750.00 P 750.00 Y 2 Holiday Party * 1\n",
      "072224 072224 1,500.00 P 1,500.00 Y 1 Catering/Firm Retreat * 1\n",
      "5065 2094756 072224 082224 129.85 P 129.85 1 Check order for Trust and AP Checks * 1\n",
      "AUTO 071824 071824 7,500.00 P 7,500.00 Y 1 Monthly Rent (Including Electric, Gas & Garbage) * 1\n",
      "AUTO 072224 072224 7,500.00 P 7,500.00 Y 2 Monthly Rent (Including Electric, Gas & Garbage) * 1\n",
      "5074 KEY 080924 080924 10.00 10.00 N 3 Duplicate Key for building 1\n",
      "042124 042124 4.00 P 4.00 3 Online Legal Research * 1\n",
      "052024 052024 75.00 P 75.00 1 Online Legal Research * 1\n",
      "062124 062124 40.00 P 40.00 4 Online Legal Research * 1\n",
      "072524 072524 4.00 P 4.00 2 Online Legal Research * 1\n",
      "072624 072624 50.00 P 50.00 5 Online Legal Research * 1\n",
      "072624 072624 50.00 P 50.00 6 Online Legal Research * 1\n",
      "072624 072624 50.00 P 50.00 7 Online Legal Research * 1\n",
      "072624 072624 50.00 P 50.00 8 Online Legal Research * 1\n",
      "061724 061724 20.00 P 20.00 Y 2 Courier Fee * 1\n",
      "062024 062024 25.00 P 25.00 Y 4 Courier Fee * 1\n",
      "082124 082124 47.50 P 47.50 Y 1 Courier Fee * 1\n",
      "082124 082124 35.00 P 35.00 Y 3 Courier Fee * 1\n",
      "402310760011 081624 082124 68.96 68.96 1 November Cell Phone Charges 1\n",
      "AUTO 071824 072124 750.00 P 750.00 Y 1 Monthly Cleaning Charges (Bi-Weekly Service) * 1\n",
      "AUTO 072224 082124 750.00 750.00 Y 2 Monthly Cleaning Charges (Bi-Weekly Service) 1\n"
     ]
    }
   ],
   "source": [
    "for line in text.split('\\n'):\n",
    "    if invoice_line_re.search(line):\n",
    "        print(line)"
   ]
  },
  {
   "cell_type": "code",
   "execution_count": 22,
   "metadata": {},
   "outputs": [],
   "source": [
    "invoice_line_re = re.compile(r'(\\d{6}) (\\d{6}) ([\\d,]+\\.\\d{2})')   #grouping\n"
   ]
  },
  {
   "cell_type": "code",
   "execution_count": 27,
   "metadata": {},
   "outputs": [
    {
     "name": "stdout",
     "output_type": "stream",
     "text": [
      "032224 062224 75.00\n",
      "032324 062324 75.00\n",
      "072224 072224 75.00\n",
      "081624 082124 490.00\n",
      "081624 082124 239.00\n",
      "081624 082124 239.00\n",
      "081624 082124 239.00\n",
      "081624 082124 800.00\n",
      "081624 082124 105.00\n",
      "082124 082624 205.00\n",
      "042224 042224 225.00\n",
      "032324 032324 75.00\n",
      "051624 051624 75.00\n",
      "081624 081624 150.00\n",
      "122023 122023 750.00\n",
      "072224 072224 1,500.00\n",
      "072224 082224 129.85\n",
      "071824 071824 7,500.00\n",
      "072224 072224 7,500.00\n",
      "080924 080924 10.00\n",
      "042124 042124 4.00\n",
      "052024 052024 75.00\n",
      "062124 062124 40.00\n",
      "072524 072524 4.00\n",
      "072624 072624 50.00\n",
      "072624 072624 50.00\n",
      "072624 072624 50.00\n",
      "072624 072624 50.00\n",
      "061724 061724 20.00\n",
      "062024 062024 25.00\n",
      "082124 082124 47.50\n",
      "082124 082124 35.00\n",
      "081624 082124 68.96\n",
      "071824 072124 750.00\n",
      "072224 082124 750.00\n"
     ]
    }
   ],
   "source": [
    "for line in text.split('\\n'):\n",
    "    line = invoice_line_re.search(line)\n",
    "    if line:\n",
    "        print(line.group(1), line.group(2), line.group(3))"
   ]
  },
  {
   "cell_type": "code",
   "execution_count": 74,
   "metadata": {},
   "outputs": [],
   "source": [
    "# furthur data\n",
    "invoice_line_re = re.compile(r'(\\d{6}) (\\d{6}) ([\\d,]+\\.\\d{2}) ([\\sP]*)([\\d,]+\\.\\d{2}) ([YN ]*\\d) (.*?) ([*\\s\\d])')   #grouping"
   ]
  },
  {
   "cell_type": "code",
   "execution_count": 76,
   "metadata": {},
   "outputs": [
    {
     "name": "stdout",
     "output_type": "stream",
     "text": [
      "032224 062224 75.00 P  75.00 1 Overnight document delivery *\n",
      "032324 062324 75.00 P  75.00 3 Postage *\n",
      "072224 072224 75.00 P  75.00 2 Overnight document delivery *\n",
      "081624 082124 490.00 P  490.00 1 Software Maintenance Agreement Tabs3 *\n",
      "081624 082124 239.00 P  239.00 2 Software Maintenance Agreement Tabs3 General Ledger *\n",
      "081624 082124 239.00 P  239.00 3 Software Maintenance Agreement Tabs3 Accounts Payable *\n",
      "081624 082124 239.00 P  239.00 4 Software Maintenance Agreement Tabs3 Trust Accounting *\n",
      "081624 082124 800.00 P  800.00 5 Software Maintenance Agreement PracticeMaster (9 Users) *\n",
      "081624 082124 105.00 P  105.00 6 Software Maintenance Agreement Tabs3 Taskbill *\n",
      "082124 082624 205.00  205.00 7 Purchase Tabs3 Device Interface Program 1\n",
      "042224 042224 225.00 P  225.00 1 Documentation Fee, Filing Fee, and Sheriff Service Fee *\n",
      "032324 032324 75.00 P  75.00 2 Filing fee *\n",
      "051624 051624 75.00 P  75.00 3 Filing fee *\n",
      "081624 081624 150.00  150.00 1 Petition for Dissolution of Marriage Filing Fee 1\n",
      "122023 122023 750.00 P  750.00 Y 2 Holiday Party *\n",
      "072224 072224 1,500.00 P  1,500.00 Y 1 Catering/Firm Retreat *\n",
      "072224 082224 129.85 P  129.85 1 Check order for Trust and AP Checks *\n",
      "071824 071824 7,500.00 P  7,500.00 Y 1 Monthly Rent (Including Electric, Gas & Garbage) *\n",
      "072224 072224 7,500.00 P  7,500.00 Y 2 Monthly Rent (Including Electric, Gas & Garbage) *\n",
      "080924 080924 10.00  10.00 N 3 Duplicate Key for building 1\n",
      "042124 042124 4.00 P  4.00 3 Online Legal Research *\n",
      "052024 052024 75.00 P  75.00 1 Online Legal Research *\n",
      "062124 062124 40.00 P  40.00 4 Online Legal Research *\n",
      "072524 072524 4.00 P  4.00 2 Online Legal Research *\n",
      "072624 072624 50.00 P  50.00 5 Online Legal Research *\n",
      "072624 072624 50.00 P  50.00 6 Online Legal Research *\n",
      "072624 072624 50.00 P  50.00 7 Online Legal Research *\n",
      "072624 072624 50.00 P  50.00 8 Online Legal Research *\n",
      "061724 061724 20.00 P  20.00 Y 2 Courier Fee *\n",
      "062024 062024 25.00 P  25.00 Y 4 Courier Fee *\n",
      "082124 082124 47.50 P  47.50 Y 1 Courier Fee *\n",
      "082124 082124 35.00 P  35.00 Y 3 Courier Fee *\n",
      "081624 082124 68.96  68.96 1 November Cell Phone Charges 1\n",
      "071824 072124 750.00 P  750.00 Y 1 Monthly Cleaning Charges (Bi-Weekly Service) *\n",
      "072224 082124 750.00  750.00 Y 2 Monthly Cleaning Charges (Bi-Weekly Service) 1\n"
     ]
    }
   ],
   "source": [
    "for line in text.split('\\n'):\n",
    "    line = invoice_line_re.search(line)\n",
    "    if line:\n",
    "        print(line.group(1), line.group(2), line.group(3), line.group(4), line.group(5), line.group(6), line.group(7), line.group(8))"
   ]
  },
  {
   "cell_type": "code",
   "execution_count": 59,
   "metadata": {},
   "outputs": [],
   "source": [
    "from collections import namedtuple"
   ]
  },
  {
   "cell_type": "code",
   "execution_count": 88,
   "metadata": {},
   "outputs": [],
   "source": [
    "# INV = namedtuple('inv', 'vend_num vend_name voucher_num inv_num inv_date due_date disc_amt disc_date net_amount desc')\n",
    "INV = namedtuple('inv', 'vend_num vend_name inv_date due_date inv_amt net_amt description')"
   ]
  },
  {
   "cell_type": "code",
   "execution_count": 102,
   "metadata": {},
   "outputs": [],
   "source": [
    "line_items = []\n",
    "\n",
    "for line in text.split('\\n'):\n",
    "    if new_vend_re.match(line):\n",
    "        vend_num, *vend_name = line.split(' ', 1)\n",
    "    \n",
    "    line = invoice_line_re.search(line)\n",
    "    if line:\n",
    "        inv_date = line.group(1)\n",
    "        due_date = line.group(2)\n",
    "        inv_amt = line.group(3).replace(',', '')\n",
    "        net_amt = line.group(5).replace(',', '')\n",
    "        description = line.group(7).replace(',', '')\n",
    "        line_items.append(INV(vend_num, vend_name, inv_date, due_date,inv_amt, net_amt, description))"
   ]
  },
  {
   "cell_type": "code",
   "execution_count": 103,
   "metadata": {},
   "outputs": [
    {
     "data": {
      "text/plain": [
       "inv(vend_num='202', vend_name=['Software Technology, LLC'], inv_date='081624', due_date='082124', inv_amt='490.00', net_amt='490.00', description='Software Maintenance Agreement Tabs3')"
      ]
     },
     "execution_count": 103,
     "metadata": {},
     "output_type": "execute_result"
    }
   ],
   "source": [
    "line_items[3]"
   ]
  },
  {
   "cell_type": "code",
   "execution_count": 104,
   "metadata": {},
   "outputs": [],
   "source": [
    "df = pd.DataFrame(line_items)"
   ]
  },
  {
   "cell_type": "code",
   "execution_count": 105,
   "metadata": {},
   "outputs": [
    {
     "data": {
      "text/html": [
       "<div>\n",
       "<style scoped>\n",
       "    .dataframe tbody tr th:only-of-type {\n",
       "        vertical-align: middle;\n",
       "    }\n",
       "\n",
       "    .dataframe tbody tr th {\n",
       "        vertical-align: top;\n",
       "    }\n",
       "\n",
       "    .dataframe thead th {\n",
       "        text-align: right;\n",
       "    }\n",
       "</style>\n",
       "<table border=\"1\" class=\"dataframe\">\n",
       "  <thead>\n",
       "    <tr style=\"text-align: right;\">\n",
       "      <th></th>\n",
       "      <th>vend_num</th>\n",
       "      <th>vend_name</th>\n",
       "      <th>inv_date</th>\n",
       "      <th>due_date</th>\n",
       "      <th>inv_amt</th>\n",
       "      <th>net_amt</th>\n",
       "      <th>description</th>\n",
       "    </tr>\n",
       "  </thead>\n",
       "  <tbody>\n",
       "    <tr>\n",
       "      <th>0</th>\n",
       "      <td>200</td>\n",
       "      <td>[United Parcel Service]</td>\n",
       "      <td>032224</td>\n",
       "      <td>062224</td>\n",
       "      <td>75.00</td>\n",
       "      <td>75.00</td>\n",
       "      <td>Overnight document delivery</td>\n",
       "    </tr>\n",
       "    <tr>\n",
       "      <th>1</th>\n",
       "      <td>200</td>\n",
       "      <td>[United Parcel Service]</td>\n",
       "      <td>032324</td>\n",
       "      <td>062324</td>\n",
       "      <td>75.00</td>\n",
       "      <td>75.00</td>\n",
       "      <td>Postage</td>\n",
       "    </tr>\n",
       "    <tr>\n",
       "      <th>2</th>\n",
       "      <td>200</td>\n",
       "      <td>[United Parcel Service]</td>\n",
       "      <td>072224</td>\n",
       "      <td>072224</td>\n",
       "      <td>75.00</td>\n",
       "      <td>75.00</td>\n",
       "      <td>Overnight document delivery</td>\n",
       "    </tr>\n",
       "    <tr>\n",
       "      <th>3</th>\n",
       "      <td>202</td>\n",
       "      <td>[Software Technology, LLC]</td>\n",
       "      <td>081624</td>\n",
       "      <td>082124</td>\n",
       "      <td>490.00</td>\n",
       "      <td>490.00</td>\n",
       "      <td>Software Maintenance Agreement Tabs3</td>\n",
       "    </tr>\n",
       "    <tr>\n",
       "      <th>4</th>\n",
       "      <td>202</td>\n",
       "      <td>[Software Technology, LLC]</td>\n",
       "      <td>081624</td>\n",
       "      <td>082124</td>\n",
       "      <td>239.00</td>\n",
       "      <td>239.00</td>\n",
       "      <td>Software Maintenance Agreement Tabs3 General L...</td>\n",
       "    </tr>\n",
       "  </tbody>\n",
       "</table>\n",
       "</div>"
      ],
      "text/plain": [
       "  vend_num                   vend_name inv_date due_date inv_amt net_amt  \\\n",
       "0      200     [United Parcel Service]   032224   062224   75.00   75.00   \n",
       "1      200     [United Parcel Service]   032324   062324   75.00   75.00   \n",
       "2      200     [United Parcel Service]   072224   072224   75.00   75.00   \n",
       "3      202  [Software Technology, LLC]   081624   082124  490.00  490.00   \n",
       "4      202  [Software Technology, LLC]   081624   082124  239.00  239.00   \n",
       "\n",
       "                                         description  \n",
       "0                        Overnight document delivery  \n",
       "1                                            Postage  \n",
       "2                        Overnight document delivery  \n",
       "3               Software Maintenance Agreement Tabs3  \n",
       "4  Software Maintenance Agreement Tabs3 General L...  "
      ]
     },
     "execution_count": 105,
     "metadata": {},
     "output_type": "execute_result"
    }
   ],
   "source": [
    "df.head()"
   ]
  },
  {
   "cell_type": "code",
   "execution_count": 106,
   "metadata": {},
   "outputs": [
    {
     "name": "stderr",
     "output_type": "stream",
     "text": [
      "C:\\Users\\Vishwajeet\\AppData\\Local\\Temp\\ipykernel_22920\\4245299104.py:1: UserWarning: Could not infer format, so each element will be parsed individually, falling back to `dateutil`. To ensure parsing is consistent and as-expected, please specify a format.\n",
      "  df['inv_date'] = pd.to_datetime(df['inv_date'])\n",
      "C:\\Users\\Vishwajeet\\AppData\\Local\\Temp\\ipykernel_22920\\4245299104.py:2: UserWarning: Could not infer format, so each element will be parsed individually, falling back to `dateutil`. To ensure parsing is consistent and as-expected, please specify a format.\n",
      "  df['due_date'] = pd.to_datetime(df['due_date'])\n"
     ]
    }
   ],
   "source": [
    "df['inv_date'] = pd.to_datetime(df['inv_date'])\n",
    "df['due_date'] = pd.to_datetime(df['due_date'])"
   ]
  },
  {
   "cell_type": "code",
   "execution_count": 107,
   "metadata": {},
   "outputs": [
    {
     "data": {
      "text/html": [
       "<div>\n",
       "<style scoped>\n",
       "    .dataframe tbody tr th:only-of-type {\n",
       "        vertical-align: middle;\n",
       "    }\n",
       "\n",
       "    .dataframe tbody tr th {\n",
       "        vertical-align: top;\n",
       "    }\n",
       "\n",
       "    .dataframe thead th {\n",
       "        text-align: right;\n",
       "    }\n",
       "</style>\n",
       "<table border=\"1\" class=\"dataframe\">\n",
       "  <thead>\n",
       "    <tr style=\"text-align: right;\">\n",
       "      <th></th>\n",
       "      <th>vend_num</th>\n",
       "      <th>vend_name</th>\n",
       "      <th>inv_date</th>\n",
       "      <th>due_date</th>\n",
       "      <th>inv_amt</th>\n",
       "      <th>net_amt</th>\n",
       "      <th>description</th>\n",
       "    </tr>\n",
       "  </thead>\n",
       "  <tbody>\n",
       "    <tr>\n",
       "      <th>0</th>\n",
       "      <td>200</td>\n",
       "      <td>[United Parcel Service]</td>\n",
       "      <td>2024-03-22</td>\n",
       "      <td>2024-06-22</td>\n",
       "      <td>75.00</td>\n",
       "      <td>75.00</td>\n",
       "      <td>Overnight document delivery</td>\n",
       "    </tr>\n",
       "    <tr>\n",
       "      <th>1</th>\n",
       "      <td>200</td>\n",
       "      <td>[United Parcel Service]</td>\n",
       "      <td>2024-03-23</td>\n",
       "      <td>2024-06-23</td>\n",
       "      <td>75.00</td>\n",
       "      <td>75.00</td>\n",
       "      <td>Postage</td>\n",
       "    </tr>\n",
       "    <tr>\n",
       "      <th>2</th>\n",
       "      <td>200</td>\n",
       "      <td>[United Parcel Service]</td>\n",
       "      <td>2024-07-22</td>\n",
       "      <td>2024-07-22</td>\n",
       "      <td>75.00</td>\n",
       "      <td>75.00</td>\n",
       "      <td>Overnight document delivery</td>\n",
       "    </tr>\n",
       "    <tr>\n",
       "      <th>3</th>\n",
       "      <td>202</td>\n",
       "      <td>[Software Technology, LLC]</td>\n",
       "      <td>2024-08-16</td>\n",
       "      <td>2024-08-21</td>\n",
       "      <td>490.00</td>\n",
       "      <td>490.00</td>\n",
       "      <td>Software Maintenance Agreement Tabs3</td>\n",
       "    </tr>\n",
       "    <tr>\n",
       "      <th>4</th>\n",
       "      <td>202</td>\n",
       "      <td>[Software Technology, LLC]</td>\n",
       "      <td>2024-08-16</td>\n",
       "      <td>2024-08-21</td>\n",
       "      <td>239.00</td>\n",
       "      <td>239.00</td>\n",
       "      <td>Software Maintenance Agreement Tabs3 General L...</td>\n",
       "    </tr>\n",
       "  </tbody>\n",
       "</table>\n",
       "</div>"
      ],
      "text/plain": [
       "  vend_num                   vend_name   inv_date   due_date inv_amt net_amt  \\\n",
       "0      200     [United Parcel Service] 2024-03-22 2024-06-22   75.00   75.00   \n",
       "1      200     [United Parcel Service] 2024-03-23 2024-06-23   75.00   75.00   \n",
       "2      200     [United Parcel Service] 2024-07-22 2024-07-22   75.00   75.00   \n",
       "3      202  [Software Technology, LLC] 2024-08-16 2024-08-21  490.00  490.00   \n",
       "4      202  [Software Technology, LLC] 2024-08-16 2024-08-21  239.00  239.00   \n",
       "\n",
       "                                         description  \n",
       "0                        Overnight document delivery  \n",
       "1                                            Postage  \n",
       "2                        Overnight document delivery  \n",
       "3               Software Maintenance Agreement Tabs3  \n",
       "4  Software Maintenance Agreement Tabs3 General L...  "
      ]
     },
     "execution_count": 107,
     "metadata": {},
     "output_type": "execute_result"
    }
   ],
   "source": [
    "df.head()"
   ]
  },
  {
   "cell_type": "code",
   "execution_count": 108,
   "metadata": {},
   "outputs": [],
   "source": [
    "df['inv_amt'] = df['inv_amt'].map(lambda x: float(x.replace(',', '')))\n",
    "df['net_amt'] = df['net_amt'].map(lambda x: float(x.replace(',', '')))"
   ]
  },
  {
   "cell_type": "code",
   "execution_count": 110,
   "metadata": {},
   "outputs": [],
   "source": [
    "df.to_csv('invoices.csv')"
   ]
  },
  {
   "cell_type": "code",
   "execution_count": null,
   "metadata": {},
   "outputs": [],
   "source": []
  }
 ],
 "metadata": {
  "kernelspec": {
   "display_name": "DL",
   "language": "python",
   "name": "python3"
  },
  "language_info": {
   "codemirror_mode": {
    "name": "ipython",
    "version": 3
   },
   "file_extension": ".py",
   "mimetype": "text/x-python",
   "name": "python",
   "nbconvert_exporter": "python",
   "pygments_lexer": "ipython3",
   "version": "3.12.5"
  }
 },
 "nbformat": 4,
 "nbformat_minor": 2
}
